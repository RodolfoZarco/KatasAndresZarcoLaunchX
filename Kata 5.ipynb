{
 "cells": [
  {
   "cell_type": "markdown",
   "metadata": {},
   "source": [
    "# Ejercicio1 - Utilizar operadores aritméticos"
   ]
  },
  {
   "cell_type": "code",
   "execution_count": 17,
   "metadata": {},
   "outputs": [
    {
     "name": "stdout",
     "output_type": "stream",
     "text": [
      "390577.53393 Millas\n"
     ]
    }
   ],
   "source": [
    "Dis_tierra = 149597.870\n",
    "Dis_jupiter = 778547.200\n",
    "\n",
    "Dis_entre_planetas = (Dis_tierra - Dis_jupiter) * 0.621\n",
    "\n",
    "print (abs(Dis_entre_planetas), \"Millas\")"
   ]
  },
  {
   "cell_type": "markdown",
   "metadata": {},
   "source": [
    "# Ejercicio 2: convierte cadenas en números y usa valores absolutos"
   ]
  },
  {
   "cell_type": "code",
   "execution_count": 16,
   "metadata": {},
   "outputs": [
    {
     "name": "stdout",
     "output_type": "stream",
     "text": [
      "0.621 Millas\n"
     ]
    }
   ],
   "source": [
    "Dis_planeta1 = input(\"Introduce la distancia del primer planeta en Km: \")\n",
    "Dis_planeta2 = input(\"Introduce la distancia del segundo planeta en Km: \")\n",
    "\n",
    "Dis_entre_planetas = (int(Dis_planeta1) - int(Dis_planeta2)) * 0.621\n",
    "\n",
    "print (abs(Dis_entre_planetas), \"Millas\")"
   ]
  }
 ],
 "metadata": {
  "interpreter": {
   "hash": "35c4bcfff6bb594ff47b51ce5b21bcb1093d06fa0c5debe7002e3be5d50f4cc1"
  },
  "kernelspec": {
   "display_name": "Python 3.10.2 64-bit",
   "language": "python",
   "name": "python3"
  },
  "language_info": {
   "codemirror_mode": {
    "name": "ipython",
    "version": 3
   },
   "file_extension": ".py",
   "mimetype": "text/x-python",
   "name": "python",
   "nbconvert_exporter": "python",
   "pygments_lexer": "ipython3",
   "version": "3.10.2"
  },
  "orig_nbformat": 4
 },
 "nbformat": 4,
 "nbformat_minor": 2
}
