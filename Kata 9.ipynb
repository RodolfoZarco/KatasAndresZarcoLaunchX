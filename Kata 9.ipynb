{
 "cells": [
  {
   "cell_type": "markdown",
   "metadata": {},
   "source": [
    "# Ejercicio 1: Trabajar con argumentos en funciones"
   ]
  },
  {
   "cell_type": "code",
   "execution_count": 23,
   "metadata": {},
   "outputs": [
    {
     "name": "stdout",
     "output_type": "stream",
     "text": [
      "Reporte general de combustible en la nave:\n",
      "---------------------------------------------------\n",
      "    Primer tanque: 60% \n",
      "    Segundo tanque: 55%\n",
      "    Tercer tanque: 64%\n",
      "    El combustible promedio es: 59.666666666666664%\n"
     ]
    }
   ],
   "source": [
    "def fuel(tanque1=0, tanque2=0, tanque3=0):\n",
    "    fuel_average = (tanque1 + tanque2 + tanque3) / 3\n",
    "    print(f\"\"\"Reporte general de combustible en la nave:\n",
    "---------------------------------------------------\n",
    "    Primer tanque: {tanque1}% \n",
    "    Segundo tanque: {tanque2}%\n",
    "    Tercer tanque: {tanque3}%\n",
    "    El combustible promedio es: {fuel_average}%\"\"\")\n",
    "fuel(60,55,64)\n",
    "\n",
    "\n"
   ]
  },
  {
   "cell_type": "markdown",
   "metadata": {},
   "source": [
    "# Ejercicio 2: Trabajo con argumentos de palabra clave"
   ]
  },
  {
   "cell_type": "code",
   "execution_count": 30,
   "metadata": {},
   "outputs": [
    {
     "name": "stdout",
     "output_type": "stream",
     "text": [
      "Informe general de navegacion:\n",
      "--------------------------------------------\n",
      "Destino: moon.\n",
      "Tiempo estimado de navegacion: 24 min.\n",
      "Combustible en la nave: 90 L.\n"
     ]
    }
   ],
   "source": [
    "def navigation_report(destination, *minutes, **tanks):\n",
    "    Tiempo_de_navegacion = sum(minutes)\n",
    "    Combustible_restante = sum(tanks.values())\n",
    "    print(f\"\"\"Informe general de navegacion:\n",
    "--------------------------------------------\n",
    "Destino: {destination}.\n",
    "Tiempo estimado de navegacion: {Tiempo_de_navegacion} min.\n",
    "Combustible en la nave: {Combustible_restante} L.\"\"\")\n",
    "\n",
    "navigation_report('moon', 5, 4, 15, tank1= 30, tank2= 25, tank3= 35)"
   ]
  }
 ],
 "metadata": {
  "interpreter": {
   "hash": "35c4bcfff6bb594ff47b51ce5b21bcb1093d06fa0c5debe7002e3be5d50f4cc1"
  },
  "kernelspec": {
   "display_name": "Python 3.10.2 64-bit",
   "language": "python",
   "name": "python3"
  },
  "language_info": {
   "codemirror_mode": {
    "name": "ipython",
    "version": 3
   },
   "file_extension": ".py",
   "mimetype": "text/x-python",
   "name": "python",
   "nbconvert_exporter": "python",
   "pygments_lexer": "ipython3",
   "version": "3.10.2"
  },
  "orig_nbformat": 4
 },
 "nbformat": 4,
 "nbformat_minor": 2
}
