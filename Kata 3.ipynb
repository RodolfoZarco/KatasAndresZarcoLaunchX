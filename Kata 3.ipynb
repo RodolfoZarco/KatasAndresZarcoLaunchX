{
 "cells": [
  {
   "cell_type": "markdown",
   "metadata": {},
   "source": [
    "# Ejercicio - Escribir declaraciones if, else, y elif"
   ]
  },
  {
   "cell_type": "code",
   "execution_count": 14,
   "metadata": {},
   "outputs": [
    {
     "name": "stdout",
     "output_type": "stream",
     "text": [
      "Advertencia!!! asteroide a exceso de velocidad:  49 km/s\n"
     ]
    }
   ],
   "source": [
    "#Para este ejercicio, escribirás una lógica condicional que imprima una advertencia si un asteroide se acerca a la Tierra demasiado rápido.\n",
    "#La velocidad del asteroide varía dependiendo de lo cerca que esté del sol, y cualquier velocidad superior a 25 kilómetros por segundo (km/s) merece una advertencia.\n",
    "#Un asteroide se acerca, y viaja a una velocidad de 49 km/s.\n",
    "\n",
    "Velocidad_del_asteroide = 49\n",
    "Lim_Velocidad = 25\n",
    "if Velocidad_del_asteroide > Lim_Velocidad:\n",
    "    print (\"Advertencia!!! asteroide a exceso de velocidad: \", int(Velocidad_del_asteroide), \"km/s\")\n",
    "else:\n",
    "    print (\"No hay peligro\")"
   ]
  },
  {
   "cell_type": "code",
   "execution_count": 24,
   "metadata": {},
   "outputs": [
    {
     "name": "stdout",
     "output_type": "stream",
     "text": [
      "Nada especial en el cielo\n"
     ]
    }
   ],
   "source": [
    "#Si un asteroide entra en la atmósfera de la Tierra a una velocidad mayor o igual a 20 km/s, a veces produce un rayo de luz que se puede ver desde la Tierra.\n",
    "#Escribe la lógica condicional que usa declaraciones if, else, y elif para alertar a las personas de todo el mundo que deben buscar un asteroide en el cielo.\n",
    "#¡Hay uno que se dirige a la tierra ahora a una velocidad de 19 km/s!\n",
    "\n",
    "Velocidad_del_asteroide = 19\n",
    "Velocidad_para_rasho_de_luz = 20\n",
    "if Velocidad_del_asteroide > Velocidad_para_rasho_de_luz:\n",
    "    print (\"ATENCIÓN! estela de asteroide visible\")\n",
    "elif Velocidad_del_asteroide == Velocidad_para_rasho_de_luz:\n",
    "    print (\"ATENCIÓN! estela de asteroide visible\")\n",
    "else:\n",
    "    print (\"Nada especial en el cielo\")"
   ]
  },
  {
   "cell_type": "markdown",
   "metadata": {},
   "source": [
    "# Ejercicio: Uso de operadores and y or"
   ]
  },
  {
   "cell_type": "code",
   "execution_count": 4,
   "metadata": {},
   "outputs": [
    {
     "name": "stdout",
     "output_type": "stream",
     "text": [
      "Todo tranqui\n"
     ]
    }
   ],
   "source": [
    "#Los asteroides de menos de 25 metros en su dimensión más grande probablemente se quemarán a medida que entren en la atmósfera de la Tierra.\n",
    "#Si una pieza de un asteroide que es más grande que 25 metros pero más pequeña que 1000 metros golpeara la Tierra, causaría mucho daño.\n",
    "#La velocidad del asteroide varía en función de lo cerca que esté del sol, y cualquier velocidad superior a 25 kilómetros por segundo (km/s) merece una advertencia.\n",
    "#Si un asteroide entra en la atmósfera de la Tierra a una velocidad mayor o igual a 20 km/s, a veces produce un rayo de luz que se puede ver desde la Tierra.\n",
    "#Usando toda esta información, escribe un programa que emita la advertencia o información correcta a la gente de la Tierra, según la velocidad y el tamaño de un asteroide.\n",
    "# Utiliza instrucciones if, else, y elif, así como los operadores and y or.\n",
    "\n",
    "Dimencion_asteroide = 10\n",
    "Vel_Asteroide = 15\n",
    "if Dimencion_asteroide >= 25 and Vel_Asteroide >= 20:\n",
    "    print (\"ATENCIÓN!!! Asteroide potencialmente destructivo se acerca a la tierra D:\")\n",
    "elif Dimencion_asteroide >= 25:\n",
    "    print (\"Asteroide de gran diametro cerca de la detectado\")\n",
    "elif Vel_Asteroide >= 20:\n",
    "    print (\"ATENCIÓN! estela de asteroide visible\")\n",
    "else:\n",
    "    print (\"Todo tranqui\")"
   ]
  }
 ],
 "metadata": {
  "interpreter": {
   "hash": "35c4bcfff6bb594ff47b51ce5b21bcb1093d06fa0c5debe7002e3be5d50f4cc1"
  },
  "kernelspec": {
   "display_name": "Python 3.10.2 64-bit",
   "language": "python",
   "name": "python3"
  },
  "language_info": {
   "codemirror_mode": {
    "name": "ipython",
    "version": 3
   },
   "file_extension": ".py",
   "mimetype": "text/x-python",
   "name": "python",
   "nbconvert_exporter": "python",
   "pygments_lexer": "ipython3",
   "version": "3.10.2"
  },
  "orig_nbformat": 4
 },
 "nbformat": 4,
 "nbformat_minor": 2
}
