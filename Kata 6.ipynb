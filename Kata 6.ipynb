{
 "cells": [
  {
   "cell_type": "markdown",
   "metadata": {},
   "source": [
    "# Ejercicio1: Crear y usar listas de Python"
   ]
  },
  {
   "cell_type": "code",
   "execution_count": 1,
   "metadata": {},
   "outputs": [
    {
     "name": "stdout",
     "output_type": "stream",
     "text": [
      "The number of planets on The solar system are:  8\n",
      "----------------------------------------------------------------------------\n",
      "The number of planets on The solar system are:  9 and the last one is Pluto\n"
     ]
    }
   ],
   "source": [
    "planets = ['Mercury', 'Venus', 'Earth', 'Mars', 'Jupiter', 'Saturn', 'Uranus', 'Neptune']\n",
    "Num_of_planets = len(planets)\n",
    "\n",
    "print(\"The number of planets on The solar system are: \", Num_of_planets)\n",
    "\n",
    "print(\"----------------------------------------------------------------------------\")\n",
    "\n",
    "planets.append('Pluto')\n",
    "Num_of_planets = len(planets)\n",
    "print(\"The number of planets on The solar system are: \", Num_of_planets, \"and the last one is\", planets[-1])"
   ]
  },
  {
   "cell_type": "markdown",
   "metadata": {},
   "source": [
    "# Ejercicio 2: Trabajando con datos de una lista"
   ]
  },
  {
   "cell_type": "code",
   "execution_count": 5,
   "metadata": {},
   "outputs": [
    {
     "name": "stdout",
     "output_type": "stream",
     "text": [
      "You select the planet number 6 on The solar system.\n",
      "The closest planets than Saturn from The sun are: ['Mercury', 'Venus', 'Earth', 'Mars', 'Jupiter'] \n",
      "The the farthest planetsfrom The sun are: ['Uranus', 'Neptune']\n"
     ]
    }
   ],
   "source": [
    "planets = ['Mercury', 'Venus', 'Earth', 'Mars', 'Jupiter', 'Saturn', 'Uranus', 'Neptune']\n",
    "Select_planet = input(\"Please, insert the name of one planet. (Capitalize the first letter please): \")\n",
    "\n",
    "closest_planets = planets[0:planets.index(Select_planet)]\n",
    "farthest_planets = planets[(planets.index(Select_planet) + 1):8]\n",
    "\n",
    "print(\"You select the planet number\", planets.index(Select_planet) + 1, \"on The solar system.\\nThe closest planets than\", planets[planets.index(Select_planet)], \"from The sun are:\", closest_planets, \"\\nThe the farthest planetsfrom The sun are:\", farthest_planets)"
   ]
  }
 ],
 "metadata": {
  "interpreter": {
   "hash": "35c4bcfff6bb594ff47b51ce5b21bcb1093d06fa0c5debe7002e3be5d50f4cc1"
  },
  "kernelspec": {
   "display_name": "Python 3.10.2 64-bit",
   "language": "python",
   "name": "python3"
  },
  "language_info": {
   "codemirror_mode": {
    "name": "ipython",
    "version": 3
   },
   "file_extension": ".py",
   "mimetype": "text/x-python",
   "name": "python",
   "nbconvert_exporter": "python",
   "pygments_lexer": "ipython3",
   "version": "3.10.2"
  },
  "orig_nbformat": 4
 },
 "nbformat": 4,
 "nbformat_minor": 2
}
